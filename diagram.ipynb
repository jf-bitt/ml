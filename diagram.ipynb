{
 "cells": [
  {
   "cell_type": "code",
   "execution_count": null,
   "metadata": {},
   "outputs": [],
   "source": [
    "## Accept string, create pair, find longest distant between them init"
   ]
  },
  {
   "cell_type": "code",
   "execution_count": 301,
   "metadata": {},
   "outputs": [],
   "source": [
    "def will_shit(string):\n",
    "\n",
    "    unique_array = []\n",
    "    \n",
    "    for i, letter in enumerate(string[0:-1]):\n",
    "        dicts[i] = letter + string[i+1]\n",
    "        \n",
    "    unique_list = []\n",
    "    \n",
    "    pairs = []\n",
    "      \n",
    "    for x, y in dicts.items(): \n",
    "        # check if exists in unique_list or not \n",
    "        if y not in unique_list: \n",
    "            unique_list.append(y)\n",
    "        elif y in unique_list:\n",
    "            pairs.append(y)\n",
    "\n",
    "    new_dict = {}\n",
    "    new_dict2 = {}\n",
    "    \n",
    "    i = 0\n",
    "    for key, value in dicts.items():\n",
    "        for pair in pairs:\n",
    "            if value == pair:\n",
    "                \n",
    "                new_dict[pair] = key\n",
    "                \n",
    "                if pair in new_dict.keys():\n",
    "                    new_dict2[pair] = key - new_dict[pair]\n",
    "                    print(value, new_dict[pair], new_dict2[pair])\n",
    "                    \n",
    "    print(new_dict2)\n",
    "    return new_dict"
   ]
  },
  {
   "cell_type": "code",
   "execution_count": 302,
   "metadata": {},
   "outputs": [
    {
     "name": "stdout",
     "output_type": "stream",
     "text": [
      "fe 0 0\n",
      "gh 3 0\n",
      "gh 3 0\n",
      "fe 7 0\n",
      "gh 10 0\n",
      "gh 10 0\n",
      "gh 15 0\n",
      "gh 15 0\n",
      "{'fe': 0, 'gh': 0}\n"
     ]
    }
   ],
   "source": [
    "x = will_shit('fe4ghrffe3gh87fgh')"
   ]
  },
  {
   "cell_type": "code",
   "execution_count": 294,
   "metadata": {},
   "outputs": [
    {
     "data": {
      "text/plain": [
       "{'fe': 0, 'gh': 3}"
      ]
     },
     "execution_count": 294,
     "metadata": {},
     "output_type": "execute_result"
    }
   ],
   "source": [
    "x"
   ]
  },
  {
   "cell_type": "code",
   "execution_count": 118,
   "metadata": {},
   "outputs": [
    {
     "data": {
      "text/plain": [
       "['ab', 'bc', 'cd', 'de', 'ef', 'fa', 'ba', 'as', 'sf', 'fd', 'dc']"
      ]
     },
     "execution_count": 118,
     "metadata": {},
     "output_type": "execute_result"
    }
   ],
   "source": [
    "list_of_pairs = []\n",
    "for index, element in dicts.items():\n",
    "    list_of_pairs.append(element)\n",
    "unique(list_of_pairs)"
   ]
  },
  {
   "cell_type": "code",
   "execution_count": 117,
   "metadata": {},
   "outputs": [],
   "source": [
    "def unique(list1): \n",
    "  \n",
    "    # intilize a null list \n",
    "    unique_list = []\n",
    "      \n",
    "    # traverse for all elements \n",
    "    for x in list1: \n",
    "        # check if exists in unique_list or not \n",
    "        if x not in unique_list: \n",
    "            unique_list.append(x)\n",
    "    return unique_list"
   ]
  },
  {
   "cell_type": "code",
   "execution_count": null,
   "metadata": {},
   "outputs": [],
   "source": []
  }
 ],
 "metadata": {
  "kernelspec": {
   "display_name": "Python 3",
   "language": "python",
   "name": "python3"
  },
  "language_info": {
   "codemirror_mode": {
    "name": "ipython",
    "version": 3
   },
   "file_extension": ".py",
   "mimetype": "text/x-python",
   "name": "python",
   "nbconvert_exporter": "python",
   "pygments_lexer": "ipython3",
   "version": "3.7.4"
  }
 },
 "nbformat": 4,
 "nbformat_minor": 4
}
