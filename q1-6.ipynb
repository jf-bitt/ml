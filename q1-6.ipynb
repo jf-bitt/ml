{
 "cells": [
  {
   "cell_type": "code",
   "execution_count": 144,
   "metadata": {},
   "outputs": [],
   "source": [
    "import pandas\n",
    "import numpy as np\n",
    "\n",
    "from collections import defaultdict\n",
    "dates_dict = defaultdict(list)\n",
    "\n",
    "def class_grades(students):\n",
    "    \n",
    "    return None\n",
    "\n",
    "students = [['Ana Stevens', '1a', 5], ['Mark Stevens', '1a', 4], ['Jon Jones', '1a', 2], ['Bob Kent', '1b', 4]]\n",
    "\n",
    "## Should return 2d array '1b', 4 where 4 - median\n",
    "\n"
   ]
  },
  {
   "cell_type": "code",
   "execution_count": 290,
   "metadata": {},
   "outputs": [],
   "source": [
    "# q1\n",
    "\n",
    "def class_grades(students):\n",
    "    \n",
    "    classes = list({student[1] for student in students if student[1] not in []})\n",
    "    \n",
    "    dict_ = defaultdict(list)\n",
    "    \n",
    "    for student in students:\n",
    "        dict_[student[1]].append(student[2])\n",
    "        \n",
    "    print(f'this  is {dict_}')\n",
    "    \n",
    "    class_median = {}\n",
    "\n",
    "    for k,v in dict_.items():\n",
    "        class_median[k] = np.median(v)\n",
    "    \n",
    "    return class_median"
   ]
  },
  {
   "cell_type": "code",
   "execution_count": 291,
   "metadata": {},
   "outputs": [
    {
     "name": "stdout",
     "output_type": "stream",
     "text": [
      "this  is defaultdict(<class 'list'>, {'1a': [5, 4, 2], '1b': [4]})\n"
     ]
    },
    {
     "data": {
      "text/plain": [
       "{'1a': 4.0, '1b': 4.0}"
      ]
     },
     "execution_count": 291,
     "metadata": {},
     "output_type": "execute_result"
    }
   ],
   "source": [
    "class_grades(students)"
   ]
  },
  {
   "cell_type": "code",
   "execution_count": 281,
   "metadata": {},
   "outputs": [
    {
     "name": "stdout",
     "output_type": "stream",
     "text": [
      "[2, 3]\n"
     ]
    }
   ],
   "source": [
    "#Q2\n",
    "\n",
    "def find_unique_numbers(numbers):\n",
    "    \n",
    "    unique_list = []\n",
    "    duplicates = []\n",
    "     x = set(numbers)\n",
    "\n",
    "    for num in numbers:\n",
    "    \n",
    "        if num in duplicates:\n",
    "            continue\n",
    "        \n",
    "        if num not in unique_list:\n",
    "            unique_list.append(num)\n",
    "        else:\n",
    "            duplicates.append(num)\n",
    "            unique_list.remove(num)\n",
    "        \n",
    "    unique_list\n",
    "    \n",
    "    return unique_list\n",
    "\n",
    "print((find_unique_numbers([1, 2, 1, 3])))"
   ]
  },
  {
   "cell_type": "code",
   "execution_count": 282,
   "metadata": {},
   "outputs": [
    {
     "ename": "Exception",
     "evalue": "Link already connected!",
     "output_type": "error",
     "traceback": [
      "\u001b[1;31m---------------------------------------------------------------------------\u001b[0m",
      "\u001b[1;31mException\u001b[0m                                 Traceback (most recent call last)",
      "\u001b[1;32m<ipython-input-282-c9a557c3e522>\u001b[0m in \u001b[0;36m<module>\u001b[1;34m\u001b[0m\n\u001b[0;32m     27\u001b[0m \u001b[0mright\u001b[0m \u001b[1;33m=\u001b[0m \u001b[0mChainLink\u001b[0m\u001b[1;33m(\u001b[0m\u001b[1;33m)\u001b[0m\u001b[1;33m\u001b[0m\u001b[1;33m\u001b[0m\u001b[0m\n\u001b[0;32m     28\u001b[0m \u001b[0mleft\u001b[0m\u001b[1;33m.\u001b[0m\u001b[0mappend\u001b[0m\u001b[1;33m(\u001b[0m\u001b[0mmiddle\u001b[0m\u001b[1;33m)\u001b[0m\u001b[1;33m\u001b[0m\u001b[1;33m\u001b[0m\u001b[0m\n\u001b[1;32m---> 29\u001b[1;33m \u001b[0mmiddle\u001b[0m\u001b[1;33m.\u001b[0m\u001b[0mappend\u001b[0m\u001b[1;33m(\u001b[0m\u001b[0mright\u001b[0m\u001b[1;33m)\u001b[0m\u001b[1;33m\u001b[0m\u001b[1;33m\u001b[0m\u001b[0m\n\u001b[0m\u001b[0;32m     30\u001b[0m \u001b[0mprint\u001b[0m\u001b[1;33m(\u001b[0m\u001b[0mleft\u001b[0m\u001b[1;33m.\u001b[0m\u001b[0mlonger_side\u001b[0m\u001b[1;33m(\u001b[0m\u001b[1;33m)\u001b[0m \u001b[1;33m==\u001b[0m \u001b[0mSide\u001b[0m\u001b[1;33m.\u001b[0m\u001b[0mright\u001b[0m\u001b[1;33m)\u001b[0m\u001b[1;33m\u001b[0m\u001b[1;33m\u001b[0m\u001b[0m\n",
      "\u001b[1;32m<ipython-input-282-c9a557c3e522>\u001b[0m in \u001b[0;36mappend\u001b[1;34m(self, link)\u001b[0m\n\u001b[0;32m     15\u001b[0m \u001b[1;33m\u001b[0m\u001b[0m\n\u001b[0;32m     16\u001b[0m     \u001b[1;32mdef\u001b[0m \u001b[0mappend\u001b[0m\u001b[1;33m(\u001b[0m\u001b[0mself\u001b[0m\u001b[1;33m,\u001b[0m \u001b[0mlink\u001b[0m\u001b[1;33m)\u001b[0m\u001b[1;33m:\u001b[0m\u001b[1;33m\u001b[0m\u001b[1;33m\u001b[0m\u001b[0m\n\u001b[1;32m---> 17\u001b[1;33m         \u001b[1;32mif\u001b[0m \u001b[0mself\u001b[0m\u001b[1;33m.\u001b[0m\u001b[0m_right\u001b[0m \u001b[1;32mis\u001b[0m \u001b[1;32mnot\u001b[0m \u001b[1;32mNone\u001b[0m\u001b[1;33m:\u001b[0m \u001b[1;32mraise\u001b[0m \u001b[0mException\u001b[0m\u001b[1;33m(\u001b[0m\u001b[1;34m'Link already connected!'\u001b[0m\u001b[1;33m)\u001b[0m\u001b[1;33m\u001b[0m\u001b[1;33m\u001b[0m\u001b[0m\n\u001b[0m\u001b[0;32m     18\u001b[0m         \u001b[0mself\u001b[0m\u001b[1;33m.\u001b[0m\u001b[0m_right\u001b[0m \u001b[1;33m=\u001b[0m \u001b[0mlink\u001b[0m\u001b[1;33m\u001b[0m\u001b[1;33m\u001b[0m\u001b[0m\n\u001b[0;32m     19\u001b[0m         \u001b[0mlink\u001b[0m\u001b[1;33m.\u001b[0m\u001b[0m_right\u001b[0m \u001b[1;33m=\u001b[0m \u001b[0mself\u001b[0m\u001b[1;33m\u001b[0m\u001b[1;33m\u001b[0m\u001b[0m\n",
      "\u001b[1;31mException\u001b[0m: Link already connected!"
     ]
    }
   ],
   "source": [
    "# #Q3\n",
    "\n",
    "# from enum import Enum\n",
    "\n",
    "# class Side(Enum):\n",
    "#     none = 0\n",
    "#     left = 1\n",
    "#     right = 2\n",
    "    \n",
    "# class ChainLink:\n",
    "    \n",
    "#     def __init__(self):\n",
    "#         self._left = None\n",
    "#         self._right = None\n",
    "        \n",
    "#     def append(self, link):\n",
    "#         if self._right is not None: raise Exception('Link already connected!')\n",
    "#         self._right = link\n",
    "#         link._right = self\n",
    "        \n",
    "#     def longer_side(self):\n",
    "        \n",
    "#         return None\n",
    "\n",
    "    \n",
    "# left = ChainLink()\n",
    "# middle = ChainLink()\n",
    "# right = ChainLink()\n",
    "# left.append(middle)\n",
    "# middle.append(right)\n",
    "# print(left.longer_side() == Side.right)"
   ]
  },
  {
   "cell_type": "code",
   "execution_count": 577,
   "metadata": {},
   "outputs": [
    {
     "name": "stdout",
     "output_type": "stream",
     "text": [
      "True\n",
      "False\n",
      "True\n"
     ]
    }
   ],
   "source": [
    "# Q4\n",
    "\n",
    "class MovingTotal:\n",
    "    \n",
    "    def __init__(self):\n",
    "        self._totals = []\n",
    "        self._list = []\n",
    "        \n",
    "    def append(self, numbers):\n",
    "        '''\n",
    "        :param numbers: (list) The list of numbers.\n",
    "        '''\n",
    "        self._list += numbers\n",
    "        all_combos = True\n",
    "\n",
    "        while all_combos:\n",
    "            sum_of_3s = 0\n",
    "            \n",
    "            if len(self._list[:3]) == 3:\n",
    "                for num in self._list[:3]:\n",
    "                    sum_of_3s += num\n",
    "            \n",
    "                self._list.pop(0)\n",
    "                self._totals.append(sum_of_3s)\n",
    "    \n",
    "            else:\n",
    "                all_combos = False\n",
    "        \n",
    "        self._list = self._list[-3:]\n",
    "        \n",
    "        return self._totals\n",
    "    \n",
    "    def contains(self, total):\n",
    "        '''\n",
    "        :param total: (int) The total to check for.\n",
    "        :returns: (bool) if MovingTotal contains the total.\n",
    "        '''\n",
    "        if total in self._totals:\n",
    "            return True\n",
    "        else:\n",
    "            return False\n",
    "            \n",
    "    \n",
    "if __name__ == '__main__':\n",
    "    movingtotal = MovingTotal()\n",
    "    movingtotal.append([1, 2, 3])\n",
    "    print(movingtotal.contains(6))\n",
    "    print(movingtotal.contains(9))\n",
    "    movingtotal.append([4])\n",
    "    print(movingtotal.contains(9))\n",
    "    "
   ]
  },
  {
   "cell_type": "code",
   "execution_count": null,
   "metadata": {},
   "outputs": [],
   "source": [
    "# Q5\n",
    "\n",
    "from typing import Diot, Tuple. Callable, Iterable\n",
    "\n",
    "import numpy as np\n",
    "\n",
    "def model_quadratic(model_parameters: dict):\n",
    "    '''\n",
    "    This is a quadratic model with a minimum at a=0.5, b=0.75, c =0.25\n",
    "    '''\n",
    "    a = model_parameters['a']\n",
    "    b = model_parameters['b']\n",
    "    c = model_parameters['c']\n",
    "    \n",
    "    return 1.75 + (a - 0.5) ** 2 + (b - 0.75) ** 2 + (c - 0.25) ** 2\n",
    "\n",
    "class Problems:\n",
    "    @staticmethod\n",
    "    def grid_search(search_space: Dict[str, Iterable],\n",
    "                   scoring_func: Callable[[Dict[str, float]], float]) -> Tuple[float, Dict[str, float]]:\n",
    "        '''\n",
    "        This function accepts a search space, which is a dict of arrays.\n",
    "        \n",
    "        For each key in the dictionary, the respective array holds the numbers in the search space that should be tested for\n",
    "        \n",
    "        \n",
    "        '''\n",
    "        \n",
    "print(Problem.grid_search({\n",
    "    'a': numpy.arrange(0.0, 1.0, 0.05),\n",
    "    'a': numpy.arrange(0.0, 1.0, 0.05),\n",
    "    'a': numpy.arrange(0.0, 1.0, 0.05),\n",
    "}, model_quadratic))"
   ]
  }
 ],
 "metadata": {
  "kernelspec": {
   "display_name": "Python 3",
   "language": "python",
   "name": "python3"
  },
  "language_info": {
   "codemirror_mode": {
    "name": "ipython",
    "version": 3
   },
   "file_extension": ".py",
   "mimetype": "text/x-python",
   "name": "python",
   "nbconvert_exporter": "python",
   "pygments_lexer": "ipython3",
   "version": "3.7.4"
  }
 },
 "nbformat": 4,
 "nbformat_minor": 4
}
